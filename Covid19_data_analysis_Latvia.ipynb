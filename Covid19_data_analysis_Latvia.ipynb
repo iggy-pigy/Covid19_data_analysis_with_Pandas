{
 "cells": [
  {
   "cell_type": "code",
   "execution_count": 1,
   "metadata": {},
   "outputs": [],
   "source": [
    "import numpy as np\n",
    "import pandas as pd\n",
    "import os\n",
    "import urllib\n",
    "%matplotlib inline"
   ]
  },
  {
   "cell_type": "markdown",
   "metadata": {},
   "source": [
    "# First attempt. Reading data by using data url."
   ]
  },
  {
   "cell_type": "code",
   "execution_count": 2,
   "metadata": {},
   "outputs": [],
   "source": [
    "url=\"https://data.gov.lv/dati/dataset/f01ada0a-2e77-4a82-8ba2-09cf0cf90db3/resource/d499d2f0-b1ea-4ba2-9600-2c701b03bd4a/download/covid_19_izmeklejumi_rezultati.csv\"\n",
    "file_path=os.path.join(\"data\", \"covid\")"
   ]
  },
  {
   "cell_type": "code",
   "execution_count": 3,
   "metadata": {},
   "outputs": [
    {
     "data": {
      "text/plain": [
       "('data\\\\covid\\\\Covid19_Data_Latvia',\n",
       " <http.client.HTTPMessage at 0x264bd9ca548>)"
      ]
     },
     "execution_count": 3,
     "metadata": {},
     "output_type": "execute_result"
    }
   ],
   "source": [
    "os.makedirs(file_path, exist_ok=True)\n",
    "csv_path=os.path.join(file_path, \"Covid19_Data_Latvia\")\n",
    "urllib.request.urlretrieve(url, csv_path)"
   ]
  },
  {
   "cell_type": "code",
   "execution_count": 4,
   "metadata": {},
   "outputs": [],
   "source": [
    "df=pd.read_csv(csv_path, encoding= 'unicode_escape')"
   ]
  },
  {
   "cell_type": "code",
   "execution_count": 5,
   "metadata": {},
   "outputs": [
    {
     "data": {
      "text/html": [
       "<div>\n",
       "<style scoped>\n",
       "    .dataframe tbody tr th:only-of-type {\n",
       "        vertical-align: middle;\n",
       "    }\n",
       "\n",
       "    .dataframe tbody tr th {\n",
       "        vertical-align: top;\n",
       "    }\n",
       "\n",
       "    .dataframe thead th {\n",
       "        text-align: right;\n",
       "    }\n",
       "</style>\n",
       "<table border=\"1\" class=\"dataframe\">\n",
       "  <thead>\n",
       "    <tr style=\"text-align: right;\">\n",
       "      <th></th>\n",
       "      <th>Datums;TestuSkaits;ApstiprinataCOVID19InfekcijaSkaits;Ipatsvars;IzarstetoPacientuSkaits;MirusoPersonuSkaits;ApstiprinatiVecGr_0-9Gadi;ApstiprinatiVecGr_10-19Gadi;ApstiprinatiVecGr_20-29Gadi;ApstiprinatiVecGr_30-39Gadi;ApstiprinatiVecGr_40-49Gadi;ApstiprinatiVecGr_50-59Gadi;ApstiprinatiVecGr_60-69Gadi;ApstiprinatiVecGr_70GadiUnVairak;ApstiprinatiVecGr_70-79Gadi;ApstiprinatiVecGr_80GadiUnVairak</th>\n",
       "    </tr>\n",
       "  </thead>\n",
       "  <tbody>\n",
       "    <tr>\n",
       "      <td>0</td>\n",
       "      <td>2020.02.29.;116;0;0;0;0;...;...;...;...;...;.....</td>\n",
       "    </tr>\n",
       "    <tr>\n",
       "      <td>1</td>\n",
       "      <td>2020.03.01.;10;0;0;0;0;...;...;...;...;...;......</td>\n",
       "    </tr>\n",
       "    <tr>\n",
       "      <td>2</td>\n",
       "      <td>2020.03.02.;37;0;0;0;0;...;...;...;...;...;......</td>\n",
       "    </tr>\n",
       "    <tr>\n",
       "      <td>3</td>\n",
       "      <td>2020.03.03.;41;1;2.4;0;0;...;...;...;...;...;....</td>\n",
       "    </tr>\n",
       "    <tr>\n",
       "      <td>4</td>\n",
       "      <td>2020.03.04.;36;0;0;1;0;...;...;...;...;...;......</td>\n",
       "    </tr>\n",
       "    <tr>\n",
       "      <td>...</td>\n",
       "      <td>...</td>\n",
       "    </tr>\n",
       "    <tr>\n",
       "      <td>250</td>\n",
       "      <td>2020.11.05.;7564;367;4.9;0;3;10;27;36;51;74;53...</td>\n",
       "    </tr>\n",
       "    <tr>\n",
       "      <td>251</td>\n",
       "      <td>2020.11.06.;7018;357;5.1;0;7;11;32;42;51;56;61...</td>\n",
       "    </tr>\n",
       "    <tr>\n",
       "      <td>252</td>\n",
       "      <td>2020.11.07.;6651;404;6.1;0;1;7;34;58;64;79;79;...</td>\n",
       "    </tr>\n",
       "    <tr>\n",
       "      <td>253</td>\n",
       "      <td>2020.11.08.;3744;215;5.7;22;3;14;16;25;34;36;3...</td>\n",
       "    </tr>\n",
       "    <tr>\n",
       "      <td>254</td>\n",
       "      <td>2020.11.09.;2398;92;3.8;0;2;4;4;12;11;15;21;13...</td>\n",
       "    </tr>\n",
       "  </tbody>\n",
       "</table>\n",
       "<p>255 rows × 1 columns</p>\n",
       "</div>"
      ],
      "text/plain": [
       "    Datums;TestuSkaits;ApstiprinataCOVID19InfekcijaSkaits;Ipatsvars;IzarstetoPacientuSkaits;MirusoPersonuSkaits;ApstiprinatiVecGr_0-9Gadi;ApstiprinatiVecGr_10-19Gadi;ApstiprinatiVecGr_20-29Gadi;ApstiprinatiVecGr_30-39Gadi;ApstiprinatiVecGr_40-49Gadi;ApstiprinatiVecGr_50-59Gadi;ApstiprinatiVecGr_60-69Gadi;ApstiprinatiVecGr_70GadiUnVairak;ApstiprinatiVecGr_70-79Gadi;ApstiprinatiVecGr_80GadiUnVairak\n",
       "0    2020.02.29.;116;0;0;0;0;...;...;...;...;...;.....                                                                                                                                                                                                                                                                                                                                                         \n",
       "1    2020.03.01.;10;0;0;0;0;...;...;...;...;...;......                                                                                                                                                                                                                                                                                                                                                         \n",
       "2    2020.03.02.;37;0;0;0;0;...;...;...;...;...;......                                                                                                                                                                                                                                                                                                                                                         \n",
       "3    2020.03.03.;41;1;2.4;0;0;...;...;...;...;...;....                                                                                                                                                                                                                                                                                                                                                         \n",
       "4    2020.03.04.;36;0;0;1;0;...;...;...;...;...;......                                                                                                                                                                                                                                                                                                                                                         \n",
       "..                                                 ...                                                                                                                                                                                                                                                                                                                                                         \n",
       "250  2020.11.05.;7564;367;4.9;0;3;10;27;36;51;74;53...                                                                                                                                                                                                                                                                                                                                                         \n",
       "251  2020.11.06.;7018;357;5.1;0;7;11;32;42;51;56;61...                                                                                                                                                                                                                                                                                                                                                         \n",
       "252  2020.11.07.;6651;404;6.1;0;1;7;34;58;64;79;79;...                                                                                                                                                                                                                                                                                                                                                         \n",
       "253  2020.11.08.;3744;215;5.7;22;3;14;16;25;34;36;3...                                                                                                                                                                                                                                                                                                                                                         \n",
       "254  2020.11.09.;2398;92;3.8;0;2;4;4;12;11;15;21;13...                                                                                                                                                                                                                                                                                                                                                         \n",
       "\n",
       "[255 rows x 1 columns]"
      ]
     },
     "execution_count": 5,
     "metadata": {},
     "output_type": "execute_result"
    }
   ],
   "source": [
    "df"
   ]
  },
  {
   "cell_type": "markdown",
   "metadata": {},
   "source": [
    "# Second attempt. Reading data by modifying csv file."
   ]
  },
  {
   "cell_type": "code",
   "execution_count": 6,
   "metadata": {},
   "outputs": [],
   "source": [
    "df2=pd.read_csv(\"Covid19_Latvia_dataset.csv\")"
   ]
  },
  {
   "cell_type": "code",
   "execution_count": 7,
   "metadata": {},
   "outputs": [
    {
     "data": {
      "text/html": [
       "<div>\n",
       "<style scoped>\n",
       "    .dataframe tbody tr th:only-of-type {\n",
       "        vertical-align: middle;\n",
       "    }\n",
       "\n",
       "    .dataframe tbody tr th {\n",
       "        vertical-align: top;\n",
       "    }\n",
       "\n",
       "    .dataframe thead th {\n",
       "        text-align: right;\n",
       "    }\n",
       "</style>\n",
       "<table border=\"1\" class=\"dataframe\">\n",
       "  <thead>\n",
       "    <tr style=\"text-align: right;\">\n",
       "      <th></th>\n",
       "      <th>Datums</th>\n",
       "      <th>TestuSkaits</th>\n",
       "      <th>ApstiprinataCOVID19InfekcijaSkaits</th>\n",
       "      <th>Ipatsvars</th>\n",
       "      <th>IzarstetoPacientuSkaits</th>\n",
       "      <th>MirusoPersonuSkaits</th>\n",
       "      <th>ApstiprinatiVecGr_0-9Gadi</th>\n",
       "      <th>ApstiprinatiVecGr_10-19Gadi</th>\n",
       "      <th>ApstiprinatiVecGr_20-29Gadi</th>\n",
       "      <th>ApstiprinatiVecGr_30-39Gadi</th>\n",
       "      <th>ApstiprinatiVecGr_40-49Gadi</th>\n",
       "      <th>ApstiprinatiVecGr_50-59Gadi</th>\n",
       "      <th>ApstiprinatiVecGr_60-69Gadi</th>\n",
       "      <th>ApstiprinatiVecGr_70GadiUnVairak</th>\n",
       "      <th>ApstiprinatiVecGr_70-79Gadi</th>\n",
       "      <th>ApstiprinatiVecGr_80GadiUnVairak</th>\n",
       "    </tr>\n",
       "  </thead>\n",
       "  <tbody>\n",
       "    <tr>\n",
       "      <td>0</td>\n",
       "      <td>29/02/2020</td>\n",
       "      <td>116</td>\n",
       "      <td>0</td>\n",
       "      <td>0.0</td>\n",
       "      <td>0</td>\n",
       "      <td>0</td>\n",
       "      <td>...</td>\n",
       "      <td>...</td>\n",
       "      <td>...</td>\n",
       "      <td>...</td>\n",
       "      <td>...</td>\n",
       "      <td>...</td>\n",
       "      <td>...</td>\n",
       "      <td>...</td>\n",
       "      <td>...</td>\n",
       "      <td>...</td>\n",
       "    </tr>\n",
       "    <tr>\n",
       "      <td>1</td>\n",
       "      <td>01/03/2020</td>\n",
       "      <td>10</td>\n",
       "      <td>0</td>\n",
       "      <td>0.0</td>\n",
       "      <td>0</td>\n",
       "      <td>0</td>\n",
       "      <td>...</td>\n",
       "      <td>...</td>\n",
       "      <td>...</td>\n",
       "      <td>...</td>\n",
       "      <td>...</td>\n",
       "      <td>...</td>\n",
       "      <td>...</td>\n",
       "      <td>...</td>\n",
       "      <td>...</td>\n",
       "      <td>...</td>\n",
       "    </tr>\n",
       "    <tr>\n",
       "      <td>2</td>\n",
       "      <td>02/03/2020</td>\n",
       "      <td>37</td>\n",
       "      <td>0</td>\n",
       "      <td>0.0</td>\n",
       "      <td>0</td>\n",
       "      <td>0</td>\n",
       "      <td>...</td>\n",
       "      <td>...</td>\n",
       "      <td>...</td>\n",
       "      <td>...</td>\n",
       "      <td>...</td>\n",
       "      <td>...</td>\n",
       "      <td>...</td>\n",
       "      <td>...</td>\n",
       "      <td>...</td>\n",
       "      <td>...</td>\n",
       "    </tr>\n",
       "    <tr>\n",
       "      <td>3</td>\n",
       "      <td>03/03/2020</td>\n",
       "      <td>41</td>\n",
       "      <td>1</td>\n",
       "      <td>2.4</td>\n",
       "      <td>0</td>\n",
       "      <td>0</td>\n",
       "      <td>...</td>\n",
       "      <td>...</td>\n",
       "      <td>...</td>\n",
       "      <td>...</td>\n",
       "      <td>...</td>\n",
       "      <td>...</td>\n",
       "      <td>...</td>\n",
       "      <td>...</td>\n",
       "      <td>...</td>\n",
       "      <td>...</td>\n",
       "    </tr>\n",
       "    <tr>\n",
       "      <td>4</td>\n",
       "      <td>04/03/2020</td>\n",
       "      <td>36</td>\n",
       "      <td>0</td>\n",
       "      <td>0.0</td>\n",
       "      <td>1</td>\n",
       "      <td>0</td>\n",
       "      <td>...</td>\n",
       "      <td>...</td>\n",
       "      <td>...</td>\n",
       "      <td>...</td>\n",
       "      <td>...</td>\n",
       "      <td>...</td>\n",
       "      <td>...</td>\n",
       "      <td>...</td>\n",
       "      <td>...</td>\n",
       "      <td>...</td>\n",
       "    </tr>\n",
       "    <tr>\n",
       "      <td>...</td>\n",
       "      <td>...</td>\n",
       "      <td>...</td>\n",
       "      <td>...</td>\n",
       "      <td>...</td>\n",
       "      <td>...</td>\n",
       "      <td>...</td>\n",
       "      <td>...</td>\n",
       "      <td>...</td>\n",
       "      <td>...</td>\n",
       "      <td>...</td>\n",
       "      <td>...</td>\n",
       "      <td>...</td>\n",
       "      <td>...</td>\n",
       "      <td>...</td>\n",
       "      <td>...</td>\n",
       "      <td>...</td>\n",
       "    </tr>\n",
       "    <tr>\n",
       "      <td>250</td>\n",
       "      <td>05/11/2020</td>\n",
       "      <td>7564</td>\n",
       "      <td>367</td>\n",
       "      <td>4.9</td>\n",
       "      <td>0</td>\n",
       "      <td>3</td>\n",
       "      <td>10</td>\n",
       "      <td>27</td>\n",
       "      <td>36</td>\n",
       "      <td>51</td>\n",
       "      <td>74</td>\n",
       "      <td>53</td>\n",
       "      <td>46</td>\n",
       "      <td>70</td>\n",
       "      <td>29</td>\n",
       "      <td>41</td>\n",
       "    </tr>\n",
       "    <tr>\n",
       "      <td>251</td>\n",
       "      <td>06/11/2020</td>\n",
       "      <td>7018</td>\n",
       "      <td>357</td>\n",
       "      <td>5.1</td>\n",
       "      <td>0</td>\n",
       "      <td>7</td>\n",
       "      <td>11</td>\n",
       "      <td>32</td>\n",
       "      <td>42</td>\n",
       "      <td>51</td>\n",
       "      <td>56</td>\n",
       "      <td>61</td>\n",
       "      <td>46</td>\n",
       "      <td>58</td>\n",
       "      <td>30</td>\n",
       "      <td>28</td>\n",
       "    </tr>\n",
       "    <tr>\n",
       "      <td>252</td>\n",
       "      <td>07/11/2020</td>\n",
       "      <td>6651</td>\n",
       "      <td>404</td>\n",
       "      <td>6.1</td>\n",
       "      <td>0</td>\n",
       "      <td>1</td>\n",
       "      <td>7</td>\n",
       "      <td>34</td>\n",
       "      <td>58</td>\n",
       "      <td>64</td>\n",
       "      <td>79</td>\n",
       "      <td>79</td>\n",
       "      <td>53</td>\n",
       "      <td>30</td>\n",
       "      <td>20</td>\n",
       "      <td>10</td>\n",
       "    </tr>\n",
       "    <tr>\n",
       "      <td>253</td>\n",
       "      <td>08/11/2020</td>\n",
       "      <td>3744</td>\n",
       "      <td>215</td>\n",
       "      <td>5.7</td>\n",
       "      <td>22</td>\n",
       "      <td>3</td>\n",
       "      <td>14</td>\n",
       "      <td>16</td>\n",
       "      <td>25</td>\n",
       "      <td>34</td>\n",
       "      <td>36</td>\n",
       "      <td>38</td>\n",
       "      <td>33</td>\n",
       "      <td>19</td>\n",
       "      <td>11</td>\n",
       "      <td>8</td>\n",
       "    </tr>\n",
       "    <tr>\n",
       "      <td>254</td>\n",
       "      <td>09/11/2020</td>\n",
       "      <td>2398</td>\n",
       "      <td>92</td>\n",
       "      <td>3.8</td>\n",
       "      <td>0</td>\n",
       "      <td>2</td>\n",
       "      <td>4</td>\n",
       "      <td>4</td>\n",
       "      <td>12</td>\n",
       "      <td>11</td>\n",
       "      <td>15</td>\n",
       "      <td>21</td>\n",
       "      <td>13</td>\n",
       "      <td>12</td>\n",
       "      <td>4</td>\n",
       "      <td>8</td>\n",
       "    </tr>\n",
       "  </tbody>\n",
       "</table>\n",
       "<p>255 rows × 16 columns</p>\n",
       "</div>"
      ],
      "text/plain": [
       "         Datums  TestuSkaits  ApstiprinataCOVID19InfekcijaSkaits  Ipatsvars  \\\n",
       "0    29/02/2020          116                                   0        0.0   \n",
       "1    01/03/2020           10                                   0        0.0   \n",
       "2    02/03/2020           37                                   0        0.0   \n",
       "3    03/03/2020           41                                   1        2.4   \n",
       "4    04/03/2020           36                                   0        0.0   \n",
       "..          ...          ...                                 ...        ...   \n",
       "250  05/11/2020         7564                                 367        4.9   \n",
       "251  06/11/2020         7018                                 357        5.1   \n",
       "252  07/11/2020         6651                                 404        6.1   \n",
       "253  08/11/2020         3744                                 215        5.7   \n",
       "254  09/11/2020         2398                                  92        3.8   \n",
       "\n",
       "     IzarstetoPacientuSkaits  MirusoPersonuSkaits ApstiprinatiVecGr_0-9Gadi  \\\n",
       "0                          0                    0                       ...   \n",
       "1                          0                    0                       ...   \n",
       "2                          0                    0                       ...   \n",
       "3                          0                    0                       ...   \n",
       "4                          1                    0                       ...   \n",
       "..                       ...                  ...                       ...   \n",
       "250                        0                    3                        10   \n",
       "251                        0                    7                        11   \n",
       "252                        0                    1                         7   \n",
       "253                       22                    3                        14   \n",
       "254                        0                    2                         4   \n",
       "\n",
       "    ApstiprinatiVecGr_10-19Gadi ApstiprinatiVecGr_20-29Gadi  \\\n",
       "0                           ...                         ...   \n",
       "1                           ...                         ...   \n",
       "2                           ...                         ...   \n",
       "3                           ...                         ...   \n",
       "4                           ...                         ...   \n",
       "..                          ...                         ...   \n",
       "250                          27                          36   \n",
       "251                          32                          42   \n",
       "252                          34                          58   \n",
       "253                          16                          25   \n",
       "254                           4                          12   \n",
       "\n",
       "    ApstiprinatiVecGr_30-39Gadi ApstiprinatiVecGr_40-49Gadi  \\\n",
       "0                           ...                         ...   \n",
       "1                           ...                         ...   \n",
       "2                           ...                         ...   \n",
       "3                           ...                         ...   \n",
       "4                           ...                         ...   \n",
       "..                          ...                         ...   \n",
       "250                          51                          74   \n",
       "251                          51                          56   \n",
       "252                          64                          79   \n",
       "253                          34                          36   \n",
       "254                          11                          15   \n",
       "\n",
       "    ApstiprinatiVecGr_50-59Gadi ApstiprinatiVecGr_60-69Gadi  \\\n",
       "0                           ...                         ...   \n",
       "1                           ...                         ...   \n",
       "2                           ...                         ...   \n",
       "3                           ...                         ...   \n",
       "4                           ...                         ...   \n",
       "..                          ...                         ...   \n",
       "250                          53                          46   \n",
       "251                          61                          46   \n",
       "252                          79                          53   \n",
       "253                          38                          33   \n",
       "254                          21                          13   \n",
       "\n",
       "    ApstiprinatiVecGr_70GadiUnVairak ApstiprinatiVecGr_70-79Gadi  \\\n",
       "0                                ...                         ...   \n",
       "1                                ...                         ...   \n",
       "2                                ...                         ...   \n",
       "3                                ...                         ...   \n",
       "4                                ...                         ...   \n",
       "..                               ...                         ...   \n",
       "250                               70                          29   \n",
       "251                               58                          30   \n",
       "252                               30                          20   \n",
       "253                               19                          11   \n",
       "254                               12                           4   \n",
       "\n",
       "    ApstiprinatiVecGr_80GadiUnVairak  \n",
       "0                                ...  \n",
       "1                                ...  \n",
       "2                                ...  \n",
       "3                                ...  \n",
       "4                                ...  \n",
       "..                               ...  \n",
       "250                               41  \n",
       "251                               28  \n",
       "252                               10  \n",
       "253                                8  \n",
       "254                                8  \n",
       "\n",
       "[255 rows x 16 columns]"
      ]
     },
     "execution_count": 7,
     "metadata": {},
     "output_type": "execute_result"
    }
   ],
   "source": [
    "df2"
   ]
  },
  {
   "cell_type": "markdown",
   "metadata": {},
   "source": [
    "# Renaming columns"
   ]
  },
  {
   "cell_type": "code",
   "execution_count": 8,
   "metadata": {},
   "outputs": [],
   "source": [
    "column_names=[\"Date_reported\", \"Tests_processed\", \"New_cases\", \"New_cases_rate\", \"Recovery\", \"New_deaths\", \"Tested_positive_Age_0-9\",\"Tested_positive_Age_10-19\", \"Tested_positive_Age_20-29\", \"Tested_positive_Age_30-39\", \"Tested_positive_Age_40-49\", \"Tested_positive_Age_50-59\", \"Tested_positive_Age_60-69\", \"Tested_positive_Age_70++\", \"Tested_positive_Age_70-79\", \"Tested_positive_Age_80++\"]"
   ]
  },
  {
   "cell_type": "code",
   "execution_count": 9,
   "metadata": {},
   "outputs": [],
   "source": [
    "df2.columns=column_names"
   ]
  },
  {
   "cell_type": "code",
   "execution_count": 10,
   "metadata": {},
   "outputs": [
    {
     "data": {
      "text/html": [
       "<div>\n",
       "<style scoped>\n",
       "    .dataframe tbody tr th:only-of-type {\n",
       "        vertical-align: middle;\n",
       "    }\n",
       "\n",
       "    .dataframe tbody tr th {\n",
       "        vertical-align: top;\n",
       "    }\n",
       "\n",
       "    .dataframe thead th {\n",
       "        text-align: right;\n",
       "    }\n",
       "</style>\n",
       "<table border=\"1\" class=\"dataframe\">\n",
       "  <thead>\n",
       "    <tr style=\"text-align: right;\">\n",
       "      <th></th>\n",
       "      <th>Date_reported</th>\n",
       "      <th>Tests_processed</th>\n",
       "      <th>New_cases</th>\n",
       "      <th>New_cases_rate</th>\n",
       "      <th>Recovery</th>\n",
       "      <th>New_deaths</th>\n",
       "      <th>Tested_positive_Age_0-9</th>\n",
       "      <th>Tested_positive_Age_10-19</th>\n",
       "      <th>Tested_positive_Age_20-29</th>\n",
       "      <th>Tested_positive_Age_30-39</th>\n",
       "      <th>Tested_positive_Age_40-49</th>\n",
       "      <th>Tested_positive_Age_50-59</th>\n",
       "      <th>Tested_positive_Age_60-69</th>\n",
       "      <th>Tested_positive_Age_70++</th>\n",
       "      <th>Tested_positive_Age_70-79</th>\n",
       "      <th>Tested_positive_Age_80++</th>\n",
       "    </tr>\n",
       "  </thead>\n",
       "  <tbody>\n",
       "    <tr>\n",
       "      <td>0</td>\n",
       "      <td>29/02/2020</td>\n",
       "      <td>116</td>\n",
       "      <td>0</td>\n",
       "      <td>0.0</td>\n",
       "      <td>0</td>\n",
       "      <td>0</td>\n",
       "      <td>...</td>\n",
       "      <td>...</td>\n",
       "      <td>...</td>\n",
       "      <td>...</td>\n",
       "      <td>...</td>\n",
       "      <td>...</td>\n",
       "      <td>...</td>\n",
       "      <td>...</td>\n",
       "      <td>...</td>\n",
       "      <td>...</td>\n",
       "    </tr>\n",
       "    <tr>\n",
       "      <td>1</td>\n",
       "      <td>01/03/2020</td>\n",
       "      <td>10</td>\n",
       "      <td>0</td>\n",
       "      <td>0.0</td>\n",
       "      <td>0</td>\n",
       "      <td>0</td>\n",
       "      <td>...</td>\n",
       "      <td>...</td>\n",
       "      <td>...</td>\n",
       "      <td>...</td>\n",
       "      <td>...</td>\n",
       "      <td>...</td>\n",
       "      <td>...</td>\n",
       "      <td>...</td>\n",
       "      <td>...</td>\n",
       "      <td>...</td>\n",
       "    </tr>\n",
       "    <tr>\n",
       "      <td>2</td>\n",
       "      <td>02/03/2020</td>\n",
       "      <td>37</td>\n",
       "      <td>0</td>\n",
       "      <td>0.0</td>\n",
       "      <td>0</td>\n",
       "      <td>0</td>\n",
       "      <td>...</td>\n",
       "      <td>...</td>\n",
       "      <td>...</td>\n",
       "      <td>...</td>\n",
       "      <td>...</td>\n",
       "      <td>...</td>\n",
       "      <td>...</td>\n",
       "      <td>...</td>\n",
       "      <td>...</td>\n",
       "      <td>...</td>\n",
       "    </tr>\n",
       "    <tr>\n",
       "      <td>3</td>\n",
       "      <td>03/03/2020</td>\n",
       "      <td>41</td>\n",
       "      <td>1</td>\n",
       "      <td>2.4</td>\n",
       "      <td>0</td>\n",
       "      <td>0</td>\n",
       "      <td>...</td>\n",
       "      <td>...</td>\n",
       "      <td>...</td>\n",
       "      <td>...</td>\n",
       "      <td>...</td>\n",
       "      <td>...</td>\n",
       "      <td>...</td>\n",
       "      <td>...</td>\n",
       "      <td>...</td>\n",
       "      <td>...</td>\n",
       "    </tr>\n",
       "    <tr>\n",
       "      <td>4</td>\n",
       "      <td>04/03/2020</td>\n",
       "      <td>36</td>\n",
       "      <td>0</td>\n",
       "      <td>0.0</td>\n",
       "      <td>1</td>\n",
       "      <td>0</td>\n",
       "      <td>...</td>\n",
       "      <td>...</td>\n",
       "      <td>...</td>\n",
       "      <td>...</td>\n",
       "      <td>...</td>\n",
       "      <td>...</td>\n",
       "      <td>...</td>\n",
       "      <td>...</td>\n",
       "      <td>...</td>\n",
       "      <td>...</td>\n",
       "    </tr>\n",
       "    <tr>\n",
       "      <td>...</td>\n",
       "      <td>...</td>\n",
       "      <td>...</td>\n",
       "      <td>...</td>\n",
       "      <td>...</td>\n",
       "      <td>...</td>\n",
       "      <td>...</td>\n",
       "      <td>...</td>\n",
       "      <td>...</td>\n",
       "      <td>...</td>\n",
       "      <td>...</td>\n",
       "      <td>...</td>\n",
       "      <td>...</td>\n",
       "      <td>...</td>\n",
       "      <td>...</td>\n",
       "      <td>...</td>\n",
       "      <td>...</td>\n",
       "    </tr>\n",
       "    <tr>\n",
       "      <td>250</td>\n",
       "      <td>05/11/2020</td>\n",
       "      <td>7564</td>\n",
       "      <td>367</td>\n",
       "      <td>4.9</td>\n",
       "      <td>0</td>\n",
       "      <td>3</td>\n",
       "      <td>10</td>\n",
       "      <td>27</td>\n",
       "      <td>36</td>\n",
       "      <td>51</td>\n",
       "      <td>74</td>\n",
       "      <td>53</td>\n",
       "      <td>46</td>\n",
       "      <td>70</td>\n",
       "      <td>29</td>\n",
       "      <td>41</td>\n",
       "    </tr>\n",
       "    <tr>\n",
       "      <td>251</td>\n",
       "      <td>06/11/2020</td>\n",
       "      <td>7018</td>\n",
       "      <td>357</td>\n",
       "      <td>5.1</td>\n",
       "      <td>0</td>\n",
       "      <td>7</td>\n",
       "      <td>11</td>\n",
       "      <td>32</td>\n",
       "      <td>42</td>\n",
       "      <td>51</td>\n",
       "      <td>56</td>\n",
       "      <td>61</td>\n",
       "      <td>46</td>\n",
       "      <td>58</td>\n",
       "      <td>30</td>\n",
       "      <td>28</td>\n",
       "    </tr>\n",
       "    <tr>\n",
       "      <td>252</td>\n",
       "      <td>07/11/2020</td>\n",
       "      <td>6651</td>\n",
       "      <td>404</td>\n",
       "      <td>6.1</td>\n",
       "      <td>0</td>\n",
       "      <td>1</td>\n",
       "      <td>7</td>\n",
       "      <td>34</td>\n",
       "      <td>58</td>\n",
       "      <td>64</td>\n",
       "      <td>79</td>\n",
       "      <td>79</td>\n",
       "      <td>53</td>\n",
       "      <td>30</td>\n",
       "      <td>20</td>\n",
       "      <td>10</td>\n",
       "    </tr>\n",
       "    <tr>\n",
       "      <td>253</td>\n",
       "      <td>08/11/2020</td>\n",
       "      <td>3744</td>\n",
       "      <td>215</td>\n",
       "      <td>5.7</td>\n",
       "      <td>22</td>\n",
       "      <td>3</td>\n",
       "      <td>14</td>\n",
       "      <td>16</td>\n",
       "      <td>25</td>\n",
       "      <td>34</td>\n",
       "      <td>36</td>\n",
       "      <td>38</td>\n",
       "      <td>33</td>\n",
       "      <td>19</td>\n",
       "      <td>11</td>\n",
       "      <td>8</td>\n",
       "    </tr>\n",
       "    <tr>\n",
       "      <td>254</td>\n",
       "      <td>09/11/2020</td>\n",
       "      <td>2398</td>\n",
       "      <td>92</td>\n",
       "      <td>3.8</td>\n",
       "      <td>0</td>\n",
       "      <td>2</td>\n",
       "      <td>4</td>\n",
       "      <td>4</td>\n",
       "      <td>12</td>\n",
       "      <td>11</td>\n",
       "      <td>15</td>\n",
       "      <td>21</td>\n",
       "      <td>13</td>\n",
       "      <td>12</td>\n",
       "      <td>4</td>\n",
       "      <td>8</td>\n",
       "    </tr>\n",
       "  </tbody>\n",
       "</table>\n",
       "<p>255 rows × 16 columns</p>\n",
       "</div>"
      ],
      "text/plain": [
       "    Date_reported  Tests_processed  New_cases  New_cases_rate  Recovery  \\\n",
       "0      29/02/2020              116          0             0.0         0   \n",
       "1      01/03/2020               10          0             0.0         0   \n",
       "2      02/03/2020               37          0             0.0         0   \n",
       "3      03/03/2020               41          1             2.4         0   \n",
       "4      04/03/2020               36          0             0.0         1   \n",
       "..            ...              ...        ...             ...       ...   \n",
       "250    05/11/2020             7564        367             4.9         0   \n",
       "251    06/11/2020             7018        357             5.1         0   \n",
       "252    07/11/2020             6651        404             6.1         0   \n",
       "253    08/11/2020             3744        215             5.7        22   \n",
       "254    09/11/2020             2398         92             3.8         0   \n",
       "\n",
       "     New_deaths Tested_positive_Age_0-9 Tested_positive_Age_10-19  \\\n",
       "0             0                     ...                       ...   \n",
       "1             0                     ...                       ...   \n",
       "2             0                     ...                       ...   \n",
       "3             0                     ...                       ...   \n",
       "4             0                     ...                       ...   \n",
       "..          ...                     ...                       ...   \n",
       "250           3                      10                        27   \n",
       "251           7                      11                        32   \n",
       "252           1                       7                        34   \n",
       "253           3                      14                        16   \n",
       "254           2                       4                         4   \n",
       "\n",
       "    Tested_positive_Age_20-29 Tested_positive_Age_30-39  \\\n",
       "0                         ...                       ...   \n",
       "1                         ...                       ...   \n",
       "2                         ...                       ...   \n",
       "3                         ...                       ...   \n",
       "4                         ...                       ...   \n",
       "..                        ...                       ...   \n",
       "250                        36                        51   \n",
       "251                        42                        51   \n",
       "252                        58                        64   \n",
       "253                        25                        34   \n",
       "254                        12                        11   \n",
       "\n",
       "    Tested_positive_Age_40-49 Tested_positive_Age_50-59  \\\n",
       "0                         ...                       ...   \n",
       "1                         ...                       ...   \n",
       "2                         ...                       ...   \n",
       "3                         ...                       ...   \n",
       "4                         ...                       ...   \n",
       "..                        ...                       ...   \n",
       "250                        74                        53   \n",
       "251                        56                        61   \n",
       "252                        79                        79   \n",
       "253                        36                        38   \n",
       "254                        15                        21   \n",
       "\n",
       "    Tested_positive_Age_60-69 Tested_positive_Age_70++  \\\n",
       "0                         ...                      ...   \n",
       "1                         ...                      ...   \n",
       "2                         ...                      ...   \n",
       "3                         ...                      ...   \n",
       "4                         ...                      ...   \n",
       "..                        ...                      ...   \n",
       "250                        46                       70   \n",
       "251                        46                       58   \n",
       "252                        53                       30   \n",
       "253                        33                       19   \n",
       "254                        13                       12   \n",
       "\n",
       "    Tested_positive_Age_70-79 Tested_positive_Age_80++  \n",
       "0                         ...                      ...  \n",
       "1                         ...                      ...  \n",
       "2                         ...                      ...  \n",
       "3                         ...                      ...  \n",
       "4                         ...                      ...  \n",
       "..                        ...                      ...  \n",
       "250                        29                       41  \n",
       "251                        30                       28  \n",
       "252                        20                       10  \n",
       "253                        11                        8  \n",
       "254                         4                        8  \n",
       "\n",
       "[255 rows x 16 columns]"
      ]
     },
     "execution_count": 10,
     "metadata": {},
     "output_type": "execute_result"
    }
   ],
   "source": [
    "df2"
   ]
  },
  {
   "cell_type": "code",
   "execution_count": 11,
   "metadata": {},
   "outputs": [
    {
     "name": "stdout",
     "output_type": "stream",
     "text": [
      "<class 'pandas.core.frame.DataFrame'>\n",
      "RangeIndex: 255 entries, 0 to 254\n",
      "Data columns (total 16 columns):\n",
      "Date_reported                255 non-null object\n",
      "Tests_processed              255 non-null int64\n",
      "New_cases                    255 non-null int64\n",
      "New_cases_rate               255 non-null float64\n",
      "Recovery                     255 non-null int64\n",
      "New_deaths                   255 non-null int64\n",
      "Tested_positive_Age_0-9      255 non-null object\n",
      "Tested_positive_Age_10-19    255 non-null object\n",
      "Tested_positive_Age_20-29    255 non-null object\n",
      "Tested_positive_Age_30-39    255 non-null object\n",
      "Tested_positive_Age_40-49    255 non-null object\n",
      "Tested_positive_Age_50-59    255 non-null object\n",
      "Tested_positive_Age_60-69    255 non-null object\n",
      "Tested_positive_Age_70++     255 non-null object\n",
      "Tested_positive_Age_70-79    255 non-null object\n",
      "Tested_positive_Age_80++     255 non-null object\n",
      "dtypes: float64(1), int64(4), object(11)\n",
      "memory usage: 32.0+ KB\n"
     ]
    }
   ],
   "source": [
    "df2.info()"
   ]
  },
  {
   "cell_type": "markdown",
   "metadata": {},
   "source": [
    "# Changing data type. Part One: Replacing \"...\" with \"0\""
   ]
  },
  {
   "cell_type": "code",
   "execution_count": 43,
   "metadata": {},
   "outputs": [],
   "source": [
    "for i in range(len(df2['Tested_positive_Age_0-9'])):\n",
    "    if (df2['Tested_positive_Age_0-9'][i])==\"...\":\n",
    "        df2['Tested_positive_Age_0-9'][i]=df2['Tested_positive_Age_0-9'][i].replace(\"...\", \"0\")"
   ]
  },
  {
   "cell_type": "code",
   "execution_count": 44,
   "metadata": {},
   "outputs": [],
   "source": [
    "for i in range(len(df2['Tested_positive_Age_10-19'])):\n",
    "    if (df2['Tested_positive_Age_10-19'][i])==\"...\":\n",
    "        df2['Tested_positive_Age_10-19'][i]=df2['Tested_positive_Age_10-19'][i].replace(\"...\", \"0\")"
   ]
  },
  {
   "cell_type": "code",
   "execution_count": 45,
   "metadata": {},
   "outputs": [],
   "source": [
    "for i in range(len(df2['Tested_positive_Age_20-29'])):\n",
    "    if (df2['Tested_positive_Age_20-29'][i])==\"...\":\n",
    "        df2['Tested_positive_Age_20-29'][i]=df2['Tested_positive_Age_20-29'][i].replace(\"...\", \"0\")"
   ]
  },
  {
   "cell_type": "code",
   "execution_count": 46,
   "metadata": {},
   "outputs": [],
   "source": [
    "for i in range(len(df2['Tested_positive_Age_30-39'])):\n",
    "    if (df2['Tested_positive_Age_30-39'][i])==\"...\":\n",
    "        df2['Tested_positive_Age_30-39'][i]=df2['Tested_positive_Age_30-39'][i].replace(\"...\", \"0\")"
   ]
  },
  {
   "cell_type": "code",
   "execution_count": 47,
   "metadata": {},
   "outputs": [],
   "source": [
    "for i in range(len(df2['Tested_positive_Age_40-49'])):\n",
    "    if (df2['Tested_positive_Age_40-49'][i])==\"...\":\n",
    "        df2['Tested_positive_Age_40-49'][i]=df2['Tested_positive_Age_40-49'][i].replace(\"...\", \"0\")"
   ]
  },
  {
   "cell_type": "code",
   "execution_count": 48,
   "metadata": {},
   "outputs": [],
   "source": [
    "for i in range(len(df2['Tested_positive_Age_50-59'])):\n",
    "    if (df2['Tested_positive_Age_50-59'][i])==\"...\":\n",
    "        df2['Tested_positive_Age_50-59'][i]=df2['Tested_positive_Age_50-59'][i].replace(\"...\", \"0\")"
   ]
  },
  {
   "cell_type": "code",
   "execution_count": 49,
   "metadata": {},
   "outputs": [],
   "source": [
    "for i in range(len(df2['Tested_positive_Age_60-69'])):\n",
    "    if (df2['Tested_positive_Age_60-69'][i])==\"...\":\n",
    "        df2['Tested_positive_Age_60-69'][i]=df2['Tested_positive_Age_60-69'][i].replace(\"...\", \"0\")"
   ]
  },
  {
   "cell_type": "code",
   "execution_count": 50,
   "metadata": {},
   "outputs": [],
   "source": [
    "for i in range(len(df2['Tested_positive_Age_70-79'])):\n",
    "    if (df2['Tested_positive_Age_70-79'][i])==\"...\":\n",
    "        df2['Tested_positive_Age_70-79'][i]=df2['Tested_positive_Age_70-79'][i].replace(\"...\", \"0\")"
   ]
  },
  {
   "cell_type": "code",
   "execution_count": 51,
   "metadata": {},
   "outputs": [],
   "source": [
    "for i in range(len(df2['Tested_positive_Age_70++'])):\n",
    "    if (df2['Tested_positive_Age_70++'][i])==\"...\":\n",
    "        df2['Tested_positive_Age_70++'][i]=df2['Tested_positive_Age_70++'][i].replace(\"...\", \"0\")"
   ]
  },
  {
   "cell_type": "code",
   "execution_count": 52,
   "metadata": {},
   "outputs": [],
   "source": [
    "for i in range(len(df2['Tested_positive_Age_80++'])):\n",
    "    if (df2['Tested_positive_Age_80++'][i])==\"...\":\n",
    "        df2['Tested_positive_Age_80++'][i]=df2['Tested_positive_Age_80++'][i].replace(\"...\", \"0\")"
   ]
  },
  {
   "cell_type": "markdown",
   "metadata": {},
   "source": [
    "# Changing data type. Part Two: From \"object\" to \"int64\" data type"
   ]
  },
  {
   "cell_type": "code",
   "execution_count": 53,
   "metadata": {},
   "outputs": [],
   "source": [
    "df2['Tested_positive_Age_0-9'] = pd.to_numeric(df2['Tested_positive_Age_0-9'])\n",
    "df2['Tested_positive_Age_10-19'] = pd.to_numeric(df2['Tested_positive_Age_10-19'])\n",
    "df2['Tested_positive_Age_20-29'] = pd.to_numeric(df2['Tested_positive_Age_20-29'])\n",
    "df2['Tested_positive_Age_30-39'] = pd.to_numeric(df2['Tested_positive_Age_30-39'])\n",
    "df2['Tested_positive_Age_40-49'] = pd.to_numeric(df2['Tested_positive_Age_40-49'])\n",
    "df2['Tested_positive_Age_50-59'] = pd.to_numeric(df2['Tested_positive_Age_50-59'])\n",
    "df2['Tested_positive_Age_60-69'] = pd.to_numeric(df2['Tested_positive_Age_60-69'])\n",
    "df2['Tested_positive_Age_70-79'] = pd.to_numeric(df2['Tested_positive_Age_70-79'])\n",
    "df2['Tested_positive_Age_70++'] = pd.to_numeric(df2['Tested_positive_Age_70++'])\n",
    "df2['Tested_positive_Age_80++'] = pd.to_numeric(df2['Tested_positive_Age_80++'])"
   ]
  },
  {
   "cell_type": "code",
   "execution_count": 54,
   "metadata": {},
   "outputs": [
    {
     "name": "stdout",
     "output_type": "stream",
     "text": [
      "<class 'pandas.core.frame.DataFrame'>\n",
      "RangeIndex: 255 entries, 0 to 254\n",
      "Data columns (total 16 columns):\n",
      "Date_reported                255 non-null object\n",
      "Tests_processed              255 non-null int64\n",
      "New_cases                    255 non-null int64\n",
      "New_cases_rate               255 non-null float64\n",
      "Recovery                     255 non-null int64\n",
      "New_deaths                   255 non-null int64\n",
      "Tested_positive_Age_0-9      255 non-null int64\n",
      "Tested_positive_Age_10-19    255 non-null int64\n",
      "Tested_positive_Age_20-29    255 non-null int64\n",
      "Tested_positive_Age_30-39    255 non-null int64\n",
      "Tested_positive_Age_40-49    255 non-null int64\n",
      "Tested_positive_Age_50-59    255 non-null int64\n",
      "Tested_positive_Age_60-69    255 non-null int64\n",
      "Tested_positive_Age_70++     255 non-null int64\n",
      "Tested_positive_Age_70-79    255 non-null int64\n",
      "Tested_positive_Age_80++     255 non-null int64\n",
      "dtypes: float64(1), int64(14), object(1)\n",
      "memory usage: 32.0+ KB\n"
     ]
    }
   ],
   "source": [
    "df2.info()"
   ]
  },
  {
   "cell_type": "code",
   "execution_count": null,
   "metadata": {},
   "outputs": [],
   "source": [
    "df2['Tested_positive_Age_50-59'][11]=0"
   ]
  },
  {
   "cell_type": "code",
   "execution_count": 56,
   "metadata": {},
   "outputs": [
    {
     "data": {
      "text/plain": [
       "0"
      ]
     },
     "execution_count": 56,
     "metadata": {},
     "output_type": "execute_result"
    }
   ],
   "source": [
    "df2['Tested_positive_Age_50-59'][11]"
   ]
  },
  {
   "cell_type": "code",
   "execution_count": 57,
   "metadata": {},
   "outputs": [],
   "source": [
    "df2['Tested_positive_Age_50-59'] = pd.to_numeric(df2['Tested_positive_Age_50-59'])\n",
    "df2['Tested_positive_Age_60-69'] = pd.to_numeric(df2['Tested_positive_Age_60-69'])\n",
    "df2['Tested_positive_Age_70-79'] = pd.to_numeric(df2['Tested_positive_Age_70-79'])\n",
    "df2['Tested_positive_Age_70++'] = pd.to_numeric(df2['Tested_positive_Age_70++'])\n",
    "df2['Tested_positive_Age_80++'] = pd.to_numeric(df2['Tested_positive_Age_80++'])"
   ]
  },
  {
   "cell_type": "code",
   "execution_count": 58,
   "metadata": {},
   "outputs": [
    {
     "name": "stdout",
     "output_type": "stream",
     "text": [
      "<class 'pandas.core.frame.DataFrame'>\n",
      "RangeIndex: 255 entries, 0 to 254\n",
      "Data columns (total 16 columns):\n",
      "Date_reported                255 non-null object\n",
      "Tests_processed              255 non-null int64\n",
      "New_cases                    255 non-null int64\n",
      "New_cases_rate               255 non-null float64\n",
      "Recovery                     255 non-null int64\n",
      "New_deaths                   255 non-null int64\n",
      "Tested_positive_Age_0-9      255 non-null int64\n",
      "Tested_positive_Age_10-19    255 non-null int64\n",
      "Tested_positive_Age_20-29    255 non-null int64\n",
      "Tested_positive_Age_30-39    255 non-null int64\n",
      "Tested_positive_Age_40-49    255 non-null int64\n",
      "Tested_positive_Age_50-59    255 non-null int64\n",
      "Tested_positive_Age_60-69    255 non-null int64\n",
      "Tested_positive_Age_70++     255 non-null int64\n",
      "Tested_positive_Age_70-79    255 non-null int64\n",
      "Tested_positive_Age_80++     255 non-null int64\n",
      "dtypes: float64(1), int64(14), object(1)\n",
      "memory usage: 32.0+ KB\n"
     ]
    }
   ],
   "source": [
    "df2.info()"
   ]
  },
  {
   "cell_type": "code",
   "execution_count": 27,
   "metadata": {},
   "outputs": [
    {
     "data": {
      "text/plain": [
       "RangeIndex(start=0, stop=255, step=1)"
      ]
     },
     "execution_count": 27,
     "metadata": {},
     "output_type": "execute_result"
    }
   ],
   "source": [
    "df2.index"
   ]
  },
  {
   "cell_type": "markdown",
   "metadata": {},
   "source": [
    "# Retrieving data from a given data set"
   ]
  },
  {
   "cell_type": "code",
   "execution_count": 28,
   "metadata": {},
   "outputs": [
    {
     "data": {
      "text/html": [
       "<div>\n",
       "<style scoped>\n",
       "    .dataframe tbody tr th:only-of-type {\n",
       "        vertical-align: middle;\n",
       "    }\n",
       "\n",
       "    .dataframe tbody tr th {\n",
       "        vertical-align: top;\n",
       "    }\n",
       "\n",
       "    .dataframe thead th {\n",
       "        text-align: right;\n",
       "    }\n",
       "</style>\n",
       "<table border=\"1\" class=\"dataframe\">\n",
       "  <thead>\n",
       "    <tr style=\"text-align: right;\">\n",
       "      <th></th>\n",
       "      <th>Tests_processed</th>\n",
       "      <th>New_cases</th>\n",
       "      <th>New_cases_rate</th>\n",
       "      <th>Recovery</th>\n",
       "      <th>New_deaths</th>\n",
       "      <th>Tested_positive_Age_0-9</th>\n",
       "      <th>Tested_positive_Age_10-19</th>\n",
       "      <th>Tested_positive_Age_20-29</th>\n",
       "      <th>Tested_positive_Age_30-39</th>\n",
       "      <th>Tested_positive_Age_40-49</th>\n",
       "      <th>Tested_positive_Age_50-59</th>\n",
       "      <th>Tested_positive_Age_60-69</th>\n",
       "      <th>Tested_positive_Age_70++</th>\n",
       "      <th>Tested_positive_Age_70-79</th>\n",
       "      <th>Tested_positive_Age_80++</th>\n",
       "    </tr>\n",
       "  </thead>\n",
       "  <tbody>\n",
       "    <tr>\n",
       "      <td>count</td>\n",
       "      <td>255.000000</td>\n",
       "      <td>255.000000</td>\n",
       "      <td>255.000000</td>\n",
       "      <td>255.000000</td>\n",
       "      <td>255.000000</td>\n",
       "      <td>255.000000</td>\n",
       "      <td>255.000000</td>\n",
       "      <td>255.000000</td>\n",
       "      <td>255.000000</td>\n",
       "      <td>255.000000</td>\n",
       "      <td>255.000000</td>\n",
       "      <td>255.000000</td>\n",
       "      <td>255.000000</td>\n",
       "      <td>255.000000</td>\n",
       "      <td>255.00000</td>\n",
       "    </tr>\n",
       "    <tr>\n",
       "      <td>mean</td>\n",
       "      <td>1962.145098</td>\n",
       "      <td>32.105882</td>\n",
       "      <td>1.218588</td>\n",
       "      <td>5.749020</td>\n",
       "      <td>0.392157</td>\n",
       "      <td>1.270588</td>\n",
       "      <td>3.223529</td>\n",
       "      <td>4.650980</td>\n",
       "      <td>5.384314</td>\n",
       "      <td>5.227451</td>\n",
       "      <td>5.125490</td>\n",
       "      <td>3.870588</td>\n",
       "      <td>3.058824</td>\n",
       "      <td>1.741176</td>\n",
       "      <td>1.32549</td>\n",
       "    </tr>\n",
       "    <tr>\n",
       "      <td>std</td>\n",
       "      <td>1417.157952</td>\n",
       "      <td>67.610340</td>\n",
       "      <td>1.634346</td>\n",
       "      <td>18.604455</td>\n",
       "      <td>0.957326</td>\n",
       "      <td>3.093255</td>\n",
       "      <td>7.676598</td>\n",
       "      <td>10.248091</td>\n",
       "      <td>11.327330</td>\n",
       "      <td>11.803311</td>\n",
       "      <td>11.459958</td>\n",
       "      <td>8.679946</td>\n",
       "      <td>7.816830</td>\n",
       "      <td>4.083247</td>\n",
       "      <td>4.03527</td>\n",
       "    </tr>\n",
       "    <tr>\n",
       "      <td>min</td>\n",
       "      <td>10.000000</td>\n",
       "      <td>0.000000</td>\n",
       "      <td>0.000000</td>\n",
       "      <td>0.000000</td>\n",
       "      <td>0.000000</td>\n",
       "      <td>0.000000</td>\n",
       "      <td>0.000000</td>\n",
       "      <td>0.000000</td>\n",
       "      <td>0.000000</td>\n",
       "      <td>0.000000</td>\n",
       "      <td>0.000000</td>\n",
       "      <td>0.000000</td>\n",
       "      <td>0.000000</td>\n",
       "      <td>0.000000</td>\n",
       "      <td>0.00000</td>\n",
       "    </tr>\n",
       "    <tr>\n",
       "      <td>25%</td>\n",
       "      <td>1123.500000</td>\n",
       "      <td>2.000000</td>\n",
       "      <td>0.200000</td>\n",
       "      <td>0.000000</td>\n",
       "      <td>0.000000</td>\n",
       "      <td>0.000000</td>\n",
       "      <td>0.000000</td>\n",
       "      <td>0.000000</td>\n",
       "      <td>0.000000</td>\n",
       "      <td>0.000000</td>\n",
       "      <td>0.000000</td>\n",
       "      <td>0.000000</td>\n",
       "      <td>0.000000</td>\n",
       "      <td>0.000000</td>\n",
       "      <td>0.00000</td>\n",
       "    </tr>\n",
       "    <tr>\n",
       "      <td>50%</td>\n",
       "      <td>1705.000000</td>\n",
       "      <td>7.000000</td>\n",
       "      <td>0.400000</td>\n",
       "      <td>0.000000</td>\n",
       "      <td>0.000000</td>\n",
       "      <td>0.000000</td>\n",
       "      <td>0.000000</td>\n",
       "      <td>1.000000</td>\n",
       "      <td>1.000000</td>\n",
       "      <td>1.000000</td>\n",
       "      <td>1.000000</td>\n",
       "      <td>1.000000</td>\n",
       "      <td>1.000000</td>\n",
       "      <td>0.000000</td>\n",
       "      <td>0.00000</td>\n",
       "    </tr>\n",
       "    <tr>\n",
       "      <td>75%</td>\n",
       "      <td>2261.000000</td>\n",
       "      <td>21.500000</td>\n",
       "      <td>1.750000</td>\n",
       "      <td>0.000000</td>\n",
       "      <td>0.000000</td>\n",
       "      <td>1.000000</td>\n",
       "      <td>1.000000</td>\n",
       "      <td>3.000000</td>\n",
       "      <td>4.000000</td>\n",
       "      <td>4.000000</td>\n",
       "      <td>3.000000</td>\n",
       "      <td>3.000000</td>\n",
       "      <td>2.000000</td>\n",
       "      <td>1.500000</td>\n",
       "      <td>1.00000</td>\n",
       "    </tr>\n",
       "    <tr>\n",
       "      <td>max</td>\n",
       "      <td>7564.000000</td>\n",
       "      <td>404.000000</td>\n",
       "      <td>9.100000</td>\n",
       "      <td>163.000000</td>\n",
       "      <td>7.000000</td>\n",
       "      <td>28.000000</td>\n",
       "      <td>54.000000</td>\n",
       "      <td>58.000000</td>\n",
       "      <td>64.000000</td>\n",
       "      <td>79.000000</td>\n",
       "      <td>79.000000</td>\n",
       "      <td>53.000000</td>\n",
       "      <td>70.000000</td>\n",
       "      <td>30.000000</td>\n",
       "      <td>41.00000</td>\n",
       "    </tr>\n",
       "  </tbody>\n",
       "</table>\n",
       "</div>"
      ],
      "text/plain": [
       "       Tests_processed   New_cases  New_cases_rate    Recovery  New_deaths  \\\n",
       "count       255.000000  255.000000      255.000000  255.000000  255.000000   \n",
       "mean       1962.145098   32.105882        1.218588    5.749020    0.392157   \n",
       "std        1417.157952   67.610340        1.634346   18.604455    0.957326   \n",
       "min          10.000000    0.000000        0.000000    0.000000    0.000000   \n",
       "25%        1123.500000    2.000000        0.200000    0.000000    0.000000   \n",
       "50%        1705.000000    7.000000        0.400000    0.000000    0.000000   \n",
       "75%        2261.000000   21.500000        1.750000    0.000000    0.000000   \n",
       "max        7564.000000  404.000000        9.100000  163.000000    7.000000   \n",
       "\n",
       "       Tested_positive_Age_0-9  Tested_positive_Age_10-19  \\\n",
       "count               255.000000                 255.000000   \n",
       "mean                  1.270588                   3.223529   \n",
       "std                   3.093255                   7.676598   \n",
       "min                   0.000000                   0.000000   \n",
       "25%                   0.000000                   0.000000   \n",
       "50%                   0.000000                   0.000000   \n",
       "75%                   1.000000                   1.000000   \n",
       "max                  28.000000                  54.000000   \n",
       "\n",
       "       Tested_positive_Age_20-29  Tested_positive_Age_30-39  \\\n",
       "count                 255.000000                 255.000000   \n",
       "mean                    4.650980                   5.384314   \n",
       "std                    10.248091                  11.327330   \n",
       "min                     0.000000                   0.000000   \n",
       "25%                     0.000000                   0.000000   \n",
       "50%                     1.000000                   1.000000   \n",
       "75%                     3.000000                   4.000000   \n",
       "max                    58.000000                  64.000000   \n",
       "\n",
       "       Tested_positive_Age_40-49  Tested_positive_Age_50-59  \\\n",
       "count                 255.000000                 255.000000   \n",
       "mean                    5.227451                   5.125490   \n",
       "std                    11.803311                  11.459958   \n",
       "min                     0.000000                   0.000000   \n",
       "25%                     0.000000                   0.000000   \n",
       "50%                     1.000000                   1.000000   \n",
       "75%                     4.000000                   3.000000   \n",
       "max                    79.000000                  79.000000   \n",
       "\n",
       "       Tested_positive_Age_60-69  Tested_positive_Age_70++  \\\n",
       "count                 255.000000                255.000000   \n",
       "mean                    3.870588                  3.058824   \n",
       "std                     8.679946                  7.816830   \n",
       "min                     0.000000                  0.000000   \n",
       "25%                     0.000000                  0.000000   \n",
       "50%                     1.000000                  1.000000   \n",
       "75%                     3.000000                  2.000000   \n",
       "max                    53.000000                 70.000000   \n",
       "\n",
       "       Tested_positive_Age_70-79  Tested_positive_Age_80++  \n",
       "count                 255.000000                 255.00000  \n",
       "mean                    1.741176                   1.32549  \n",
       "std                     4.083247                   4.03527  \n",
       "min                     0.000000                   0.00000  \n",
       "25%                     0.000000                   0.00000  \n",
       "50%                     0.000000                   0.00000  \n",
       "75%                     1.500000                   1.00000  \n",
       "max                    30.000000                  41.00000  "
      ]
     },
     "execution_count": 28,
     "metadata": {},
     "output_type": "execute_result"
    }
   ],
   "source": [
    "df2.describe()"
   ]
  },
  {
   "cell_type": "code",
   "execution_count": 29,
   "metadata": {},
   "outputs": [],
   "source": [
    "group_one=df2[[\"Tested_positive_Age_0-9\"]]"
   ]
  },
  {
   "cell_type": "code",
   "execution_count": 30,
   "metadata": {},
   "outputs": [],
   "source": [
    "group_two=df2[[\"Tested_positive_Age_50-59\"]]"
   ]
  },
  {
   "cell_type": "code",
   "execution_count": 31,
   "metadata": {},
   "outputs": [],
   "source": [
    "both_age_groups=group_one.join(group_two, how='inner')"
   ]
  },
  {
   "cell_type": "code",
   "execution_count": 32,
   "metadata": {},
   "outputs": [
    {
     "data": {
      "text/plain": [
       "<matplotlib.axes._subplots.AxesSubplot at 0x264bdb24a08>"
      ]
     },
     "execution_count": 32,
     "metadata": {},
     "output_type": "execute_result"
    },
    {
     "data": {
      "image/png": "[encoded data removed]",
      "text/plain": [
       "<Figure size 432x288 with 1 Axes>"
      ]
     },
     "metadata": {
      "needs_background": "light"
     },
     "output_type": "display_data"
    }
   ],
   "source": [
    "#compare positive tested case changes in two age groups from 29 February 2020 to 9 November 2020\n",
    "\n",
    "both_age_groups.plot()"
   ]
  },
  {
   "cell_type": "code",
   "execution_count": 33,
   "metadata": {},
   "outputs": [
    {
     "data": {
      "text/plain": [
       "<matplotlib.axes._subplots.AxesSubplot at 0x264bde5d4c8>"
      ]
     },
     "execution_count": 33,
     "metadata": {},
     "output_type": "execute_result"
    },
    {
     "data": {
      "image/png": "[encoded data removed]",
      "text/plain": [
       "<Figure size 432x288 with 1 Axes>"
      ]
     },
     "metadata": {
      "needs_background": "light"
     },
     "output_type": "display_data"
    }
   ],
   "source": [
    "#compare positive tested case changes in two age groups during the last 60 days\n",
    "\n",
    "both_age_groups.loc[195:255].plot()"
   ]
  },
  {
   "cell_type": "code",
   "execution_count": 34,
   "metadata": {},
   "outputs": [
    {
     "data": {
      "text/plain": [
       "<matplotlib.axes._subplots.AxesSubplot at 0x264bdef9948>"
      ]
     },
     "execution_count": 34,
     "metadata": {},
     "output_type": "execute_result"
    },
    {
     "data": {
      "image/png": "[encoded data removed]",
      "text/plain": [
       "<Figure size 432x288 with 1 Axes>"
      ]
     },
     "metadata": {
      "needs_background": "light"
     },
     "output_type": "display_data"
    }
   ],
   "source": [
    "#rolling average in two age groups from 29 February 2020 to 9 November 2020\n",
    "\n",
    "both_age_groups.rolling(min_periods=7, window=30, center=False).mean().plot()"
   ]
  },
  {
   "cell_type": "code",
   "execution_count": 35,
   "metadata": {},
   "outputs": [
    {
     "data": {
      "text/plain": [
       "<matplotlib.axes._subplots.AxesSubplot at 0x264bdf6acc8>"
      ]
     },
     "execution_count": 35,
     "metadata": {},
     "output_type": "execute_result"
    },
    {
     "data": {
      "image/png": "[encoded data removed]",
      "text/plain": [
       "<Figure size 432x288 with 1 Axes>"
      ]
     },
     "metadata": {
      "needs_background": "light"
     },
     "output_type": "display_data"
    }
   ],
   "source": [
    "#rolling standard deviation in two age groups from 29 February 2020 to 9 November 2020\n",
    "\n",
    "both_age_groups.rolling(min_periods=7, window=30, center=False).std().plot()"
   ]
  },
  {
   "cell_type": "code",
   "execution_count": 36,
   "metadata": {},
   "outputs": [
    {
     "data": {
      "text/plain": [
       "404"
      ]
     },
     "execution_count": 36,
     "metadata": {},
     "output_type": "execute_result"
    }
   ],
   "source": [
    "# The highest number of people tested positive per day\n",
    "\n",
    "df2[\"New_cases\"].max()"
   ]
  },
  {
   "cell_type": "code",
   "execution_count": 37,
   "metadata": {},
   "outputs": [
    {
     "data": {
      "text/plain": [
       "8187"
      ]
     },
     "execution_count": 37,
     "metadata": {},
     "output_type": "execute_result"
    }
   ],
   "source": [
    "# The total number of people tested positive from 29 February 2020 to 9 November 2020\n",
    "\n",
    "df2[\"New_cases\"].sum()"
   ]
  },
  {
   "cell_type": "code",
   "execution_count": 38,
   "metadata": {},
   "outputs": [
    {
     "data": {
      "text/plain": [
       "7"
      ]
     },
     "execution_count": 38,
     "metadata": {},
     "output_type": "execute_result"
    }
   ],
   "source": [
    "# The highest number of new deaths per day\n",
    "\n",
    "df2[\"New_deaths\"].max()"
   ]
  },
  {
   "cell_type": "code",
   "execution_count": 39,
   "metadata": {},
   "outputs": [
    {
     "data": {
      "text/plain": [
       "100"
      ]
     },
     "execution_count": 39,
     "metadata": {},
     "output_type": "execute_result"
    }
   ],
   "source": [
    "# The total number of deaths from 29 February 2020 to 9 November 2020\n",
    "\n",
    "df2[\"New_deaths\"].sum()"
   ]
  },
  {
   "cell_type": "code",
   "execution_count": 40,
   "metadata": {},
   "outputs": [
    {
     "data": {
      "text/plain": [
       "1466"
      ]
     },
     "execution_count": 40,
     "metadata": {},
     "output_type": "execute_result"
    }
   ],
   "source": [
    "# The total number of recovery cases from 29 February 2020 to 9 November 2020\n",
    "df2[\"Recovery\"].sum()"
   ]
  },
  {
   "cell_type": "code",
   "execution_count": 41,
   "metadata": {},
   "outputs": [
    {
     "data": {
      "text/plain": [
       "7564"
      ]
     },
     "execution_count": 41,
     "metadata": {},
     "output_type": "execute_result"
    }
   ],
   "source": [
    "# The highest number of tests processed daily\n",
    "df2[\"Tests_processed\"].max()"
   ]
  },
  {
   "cell_type": "code",
   "execution_count": 42,
   "metadata": {},
   "outputs": [
    {
     "data": {
      "text/plain": [
       "<matplotlib.axes._subplots.AxesSubplot at 0x264bdfe87c8>"
      ]
     },
     "execution_count": 42,
     "metadata": {},
     "output_type": "execute_result"
    },
    {
     "data": {
      "image/png": "[encoded data removed]",
      "text/plain": [
       "<Figure size 432x288 with 1 Axes>"
      ]
     },
     "metadata": {
      "needs_background": "light"
     },
     "output_type": "display_data"
    }
   ],
   "source": [
    "df2[\"New_cases\"].plot()"
   ]
  }
 ],
 "metadata": {
  "kernelspec": {
   "display_name": "Python 3",
   "language": "python",
   "name": "python3"
  },
  "language_info": {
   "codemirror_mode": {
    "name": "ipython",
    "version": 3
   },
   "file_extension": ".py",
   "mimetype": "text/x-python",
   "name": "python",
   "nbconvert_exporter": "python",
   "pygments_lexer": "ipython3",
   "version": "3.7.4"
  }
 },
 "nbformat": 4,
 "nbformat_minor": 2
}
